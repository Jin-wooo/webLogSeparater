{
 "cells": [
  {
   "cell_type": "code",
   "execution_count": 8,
   "metadata": {},
   "outputs": [],
   "source": [
    "import pandas as pd\n",
    "import re\n",
    "import numpy as np\n",
    "from sklearn.feature_extraction.text import TfidfVectorizer\n",
    "from sklearn.ensemble import RandomForestClassifier\n",
    "from sklearn.metrics import accuracy_score,f1_score"
   ]
  },
  {
   "cell_type": "code",
   "execution_count": 9,
   "metadata": {},
   "outputs": [],
   "source": [
    "def parsing(path):\n",
    "    with open(path,'r',encoding='utf-8') as f:\n",
    "        lines = f.readlines()\n",
    "        result = []\n",
    "        for i in range(len(lines)):\n",
    "            line = lines[i].strip()\n",
    "            if line.startswith(\"GET\"):\n",
    "                result.append(\"GET\" + line.split(\" \")[1])\n",
    "            elif line.startswith(\"POST\") or line.startswith(\"PUT\"):\n",
    "                url = line.split(' ')[0] + line.split(' ')[1]\n",
    "                j = 1\n",
    "                while True:\n",
    "                    if lines[i + j].startswith(\"Content-Length\"):\n",
    "                        break\n",
    "                    j += 1\n",
    "                j += 1\n",
    "                temp = lines[i + j + 1].strip()\n",
    "                url += '?' + temp\n",
    "                result.append(url)  \n",
    "        #print (\"finished parse \",len(result),\" requests\")\n",
    "    return result\n",
    "            "
   ]
  },
  {
   "cell_type": "code",
   "execution_count": 10,
   "metadata": {},
   "outputs": [],
   "source": [
    "\n",
    "def dataset(path,mod='train'): #데이터셋을 생성합니다. 파싱한 데이터와 라벨을 생성합니다 \n",
    "    x = parsing(f'{path}norm_{mod}.txt') # mod에 따라 train을 가져올지 test 데이터를 가져올지 결정됩니다.\n",
    "    y = [0]*len(x) # 정상 라벨 0 을 정상 데이터 개수 만큼 생성\n",
    "    x += parsing(f'{path}anomal_{mod}.txt')\n",
    "    y += [1]*(len(x)-len(y)) # 비정상 라벨 1을 비정상 데이터 개수 만큼 생성\n",
    "    return x, y\n"
   ]
  },
  {
   "cell_type": "code",
   "execution_count": 11,
   "metadata": {},
   "outputs": [],
   "source": [
    "def vectorize(train_x,test_x): #문장을 벡터로 만듭니다 해당 코드에서는 기본적인 tf idf를 사용하고 있습니다.\n",
    "    tf = TfidfVectorizer(analyzer=\"char\", ngram_range=(3, 3))\n",
    "    tf = tf.fit(train_x)\n",
    "    train_vec = tf.transform(train_x)\n",
    "    test_vec = tf.transform(test_x)\n",
    "    return train_vec,test_vec\n"
   ]
  },
  {
   "cell_type": "code",
   "execution_count": 12,
   "metadata": {},
   "outputs": [],
   "source": [
    "def train(train_vec,train_y): #랜덤 포레스트로 훈련 시킵니다. 모델을 바꾸고 싶다면 이 함수를 변경해야 합니다.\n",
    "    rf = RandomForestClassifier()\n",
    "    rf.fit(train_vec,train_y)\n",
    "    return rf\n"
   ]
  },
  {
   "cell_type": "code",
   "execution_count": 13,
   "metadata": {},
   "outputs": [],
   "source": [
    "def test(test_y,test_vec,rf): #입렵 받은 테스트와 모델로 테스트를 실시합니다\n",
    "    pred = rf.predict(test_vec)\n",
    "    print(accuracy_score(test_y,pred))\n",
    "    print(f1_score(test_y,pred))\n",
    "    return pred\n"
   ]
  },
  {
   "cell_type": "code",
   "execution_count": 14,
   "metadata": {},
   "outputs": [
    {
     "name": "stdout",
     "output_type": "stream",
     "text": [
      "0.9910750839269631\n",
      "0.9890967290187056\n"
     ]
    }
   ],
   "source": [
    "def run():\n",
    "############### 실행 코드 #######################\n",
    "################################################\n",
    "    train_x, train_y = dataset('C:/Users/hyeseung/Desktop/웹공격탐지/','train')\n",
    "    test_x, test_y =  dataset('C:/Users/hyeseung/Desktop/웹공격탐지/','test')\n",
    "\n",
    "    train_vec, test_vec = vectorize(train_x, test_x)\n",
    "    rf = train(train_vec, train_y)\n",
    "    pred = test(test_y,test_vec, rf)\n",
    "\n",
    "########################################################\n",
    "    tf = TfidfVectorizer(analyzer=\"char\", ngram_range=(3, 3))\n",
    "    tf = tf.fit(train_x)\n",
    "\n",
    "    #print(len(tf.vocabulary_))\n",
    "    #print(tf.transform(train_x)[0]) \n",
    "\n",
    "if __name__==\"__main__\":\n",
    "    run()"
   ]
  },
  {
   "cell_type": "markdown",
   "metadata": {},
   "source": [
    "parsing 함수는 https://github.com/Monkey-D-Groot/Machine-Learning-on-CSIC-2010 참조했습니다"
   ]
  }
 ],
 "metadata": {
  "kernelspec": {
   "display_name": "Python 3",
   "language": "python",
   "name": "python3"
  },
  "language_info": {
   "codemirror_mode": {
    "name": "ipython",
    "version": 3
   },
   "file_extension": ".py",
   "mimetype": "text/x-python",
   "name": "python",
   "nbconvert_exporter": "python",
   "pygments_lexer": "ipython3",
   "version": "3.8.3"
  }
 },
 "nbformat": 4,
 "nbformat_minor": 4
}
